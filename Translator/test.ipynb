{
 "cells": [
  {
   "cell_type": "code",
   "execution_count": 2,
   "metadata": {},
   "outputs": [],
   "source": [
    "import torch\n",
    "import torch.nn as nn\n",
    "import torch.nn.functional as F"
   ]
  },
  {
   "cell_type": "code",
   "execution_count": 19,
   "metadata": {},
   "outputs": [],
   "source": [
    "x = torch.randn(1, 8, 64)\n",
    "query = nn.Linear(64, 64)(x)\n",
    "key = nn.Linear(64, 64)(x)\n",
    "value = nn.Linear(64, 64)(x)"
   ]
  },
  {
   "cell_type": "code",
   "execution_count": 20,
   "metadata": {},
   "outputs": [
    {
     "name": "stdout",
     "output_type": "stream",
     "text": [
      "torch.Size([1, 8, 8])\n"
     ]
    }
   ],
   "source": [
    "d_k = query.size()[-1]\n",
    "scaled = torch.matmul(query, key.transpose(-1, -2)) / (d_k ** 0.5)\n",
    "print(scaled.shape)\n",
    "attention = F.softmax(scaled, dim=-1)\n",
    "out = torch.matmul(attention, value)"
   ]
  },
  {
   "cell_type": "code",
   "execution_count": 21,
   "metadata": {},
   "outputs": [
    {
     "name": "stdout",
     "output_type": "stream",
     "text": [
      "torch.Size([1, 8, 8])\n"
     ]
    }
   ],
   "source": [
    "d_k2 = query.shape[-1]\n",
    "wei = query @ key.transpose(-2, -1)  * d_k2**(-0.5) \n",
    "print(wei.shape)\n",
    "wei = F.softmax(wei, dim = -1) \n",
    "out2 = wei @ value"
   ]
  },
  {
   "cell_type": "code",
   "execution_count": 22,
   "metadata": {},
   "outputs": [
    {
     "name": "stdout",
     "output_type": "stream",
     "text": [
      "True\n"
     ]
    }
   ],
   "source": [
    "# check if the two methods are the same\n",
    "print(torch.allclose(out, out2))"
   ]
  },
  {
   "cell_type": "code",
   "execution_count": 26,
   "metadata": {},
   "outputs": [
    {
     "data": {
      "text/plain": [
       "[-1]"
      ]
     },
     "execution_count": 26,
     "metadata": {},
     "output_type": "execute_result"
    }
   ],
   "source": [
    "d_model = 512\n",
    "parameters_shape=([d_model])\n",
    "dims = [-(i+1) for i in range(len(parameters_shape))] # [-1]\n",
    "dims\n"
   ]
  },
  {
   "attachments": {
    "image.png": {
     "image/png": "[encoded data removed]"
    }
   },
   "cell_type": "markdown",
   "metadata": {},
   "source": [
    "![image.png](attachment:image.png)"
   ]
  },
  {
   "cell_type": "code",
   "execution_count": 14,
   "metadata": {},
   "outputs": [
    {
     "name": "stdout",
     "output_type": "stream",
     "text": [
      "tensor([0, 2, 4, 6, 8])\n",
      "tensor([1, 3, 5, 7, 9])\n",
      "tensor([    1,     1,     1, 10000, 10000])\n",
      "tensor([    1,     1, 10000, 10000, 10000])\n",
      "False\n"
     ]
    },
    {
     "name": "stderr",
     "output_type": "stream",
     "text": [
      "C:\\Users\\Sasini Wanigathunga\\AppData\\Local\\Temp\\ipykernel_31280\\2272284102.py:9: UserWarning: To copy construct from a tensor, it is recommended to use sourceTensor.clone().detach() or sourceTensor.clone().detach().requires_grad_(True), rather than torch.tensor(sourceTensor).\n",
      "  even_denom = 10000 ** (2 * torch.tensor(even_i) // d_model)\n",
      "C:\\Users\\Sasini Wanigathunga\\AppData\\Local\\Temp\\ipykernel_31280\\2272284102.py:10: UserWarning: To copy construct from a tensor, it is recommended to use sourceTensor.clone().detach() or sourceTensor.clone().detach().requires_grad_(True), rather than torch.tensor(sourceTensor).\n",
      "  odd_denom = 10000 ** (2 * torch.tensor(odd_i) // d_model)\n"
     ]
    }
   ],
   "source": [
    "d_model = 10\n",
    "max_sequence_length = 5\n",
    "\n",
    "i = torch.arange(d_model)\n",
    "even_i = i[::2]\n",
    "odd_i = i[1::2]\n",
    "print(even_i)\n",
    "print(odd_i)\n",
    "even_denom = 10000 ** (2 * torch.tensor(even_i) // d_model)\n",
    "odd_denom = 10000 ** (2 * torch.tensor(odd_i) // d_model)\n",
    "print(even_denom)\n",
    "print(odd_denom)\n",
    "print(torch.allclose(even_denom, odd_denom))"
   ]
  },
  {
   "cell_type": "code",
   "execution_count": 9,
   "metadata": {},
   "outputs": [
    {
     "name": "stdout",
     "output_type": "stream",
     "text": [
      "torch.Size([6])\n",
      "tensor([ 0.,  2.,  4.,  6.,  8., 10.])\n",
      "torch.Size([6])\n",
      "tensor([1.0000e+00, 2.1544e+01, 4.6416e+02, 1.0000e+04, 2.1544e+05, 4.6416e+06])\n",
      "torch.Size([5, 1])\n",
      "tensor([[0],\n",
      "        [1],\n",
      "        [2],\n",
      "        [3],\n",
      "        [4]])\n",
      "torch.Size([5, 6])\n",
      "tensor([[ 0.0000e+00,  0.0000e+00,  0.0000e+00,  0.0000e+00,  0.0000e+00,\n",
      "          0.0000e+00],\n",
      "        [ 8.4147e-01,  4.6399e-02,  2.1544e-03,  1.0000e-04,  4.6416e-06,\n",
      "          2.1544e-07],\n",
      "        [ 9.0930e-01,  9.2698e-02,  4.3089e-03,  2.0000e-04,  9.2832e-06,\n",
      "          4.3089e-07],\n",
      "        [ 1.4112e-01,  1.3880e-01,  6.4633e-03,  3.0000e-04,  1.3925e-05,\n",
      "          6.4633e-07],\n",
      "        [-7.5680e-01,  1.8460e-01,  8.6176e-03,  4.0000e-04,  1.8566e-05,\n",
      "          8.6177e-07]])\n",
      "torch.Size([5, 6])\n",
      "tensor([[ 1.0000,  1.0000,  1.0000,  1.0000,  1.0000,  1.0000],\n",
      "        [ 0.5403,  0.9989,  1.0000,  1.0000,  1.0000,  1.0000],\n",
      "        [-0.4161,  0.9957,  1.0000,  1.0000,  1.0000,  1.0000],\n",
      "        [-0.9900,  0.9903,  1.0000,  1.0000,  1.0000,  1.0000],\n",
      "        [-0.6536,  0.9828,  1.0000,  1.0000,  1.0000,  1.0000]])\n",
      "torch.Size([5, 6, 2])\n",
      "tensor([[[ 0.0000e+00,  1.0000e+00],\n",
      "         [ 0.0000e+00,  1.0000e+00],\n",
      "         [ 0.0000e+00,  1.0000e+00],\n",
      "         [ 0.0000e+00,  1.0000e+00],\n",
      "         [ 0.0000e+00,  1.0000e+00],\n",
      "         [ 0.0000e+00,  1.0000e+00]],\n",
      "\n",
      "        [[ 8.4147e-01,  5.4030e-01],\n",
      "         [ 4.6399e-02,  9.9892e-01],\n",
      "         [ 2.1544e-03,  1.0000e+00],\n",
      "         [ 1.0000e-04,  1.0000e+00],\n",
      "         [ 4.6416e-06,  1.0000e+00],\n",
      "         [ 2.1544e-07,  1.0000e+00]],\n",
      "\n",
      "        [[ 9.0930e-01, -4.1615e-01],\n",
      "         [ 9.2698e-02,  9.9569e-01],\n",
      "         [ 4.3089e-03,  9.9999e-01],\n",
      "         [ 2.0000e-04,  1.0000e+00],\n",
      "         [ 9.2832e-06,  1.0000e+00],\n",
      "         [ 4.3089e-07,  1.0000e+00]],\n",
      "\n",
      "        [[ 1.4112e-01, -9.8999e-01],\n",
      "         [ 1.3880e-01,  9.9032e-01],\n",
      "         [ 6.4633e-03,  9.9998e-01],\n",
      "         [ 3.0000e-04,  1.0000e+00],\n",
      "         [ 1.3925e-05,  1.0000e+00],\n",
      "         [ 6.4633e-07,  1.0000e+00]],\n",
      "\n",
      "        [[-7.5680e-01, -6.5364e-01],\n",
      "         [ 1.8460e-01,  9.8281e-01],\n",
      "         [ 8.6176e-03,  9.9996e-01],\n",
      "         [ 4.0000e-04,  1.0000e+00],\n",
      "         [ 1.8566e-05,  1.0000e+00],\n",
      "         [ 8.6177e-07,  1.0000e+00]]])\n",
      "torch.Size([5, 12])\n",
      "tensor([[ 0.0000e+00,  1.0000e+00,  0.0000e+00,  1.0000e+00,  0.0000e+00,\n",
      "          1.0000e+00,  0.0000e+00,  1.0000e+00,  0.0000e+00,  1.0000e+00,\n",
      "          0.0000e+00,  1.0000e+00],\n",
      "        [ 8.4147e-01,  5.4030e-01,  4.6399e-02,  9.9892e-01,  2.1544e-03,\n",
      "          1.0000e+00,  1.0000e-04,  1.0000e+00,  4.6416e-06,  1.0000e+00,\n",
      "          2.1544e-07,  1.0000e+00],\n",
      "        [ 9.0930e-01, -4.1615e-01,  9.2698e-02,  9.9569e-01,  4.3089e-03,\n",
      "          9.9999e-01,  2.0000e-04,  1.0000e+00,  9.2832e-06,  1.0000e+00,\n",
      "          4.3089e-07,  1.0000e+00],\n",
      "        [ 1.4112e-01, -9.8999e-01,  1.3880e-01,  9.9032e-01,  6.4633e-03,\n",
      "          9.9998e-01,  3.0000e-04,  1.0000e+00,  1.3925e-05,  1.0000e+00,\n",
      "          6.4633e-07,  1.0000e+00],\n",
      "        [-7.5680e-01, -6.5364e-01,  1.8460e-01,  9.8281e-01,  8.6176e-03,\n",
      "          9.9996e-01,  4.0000e-04,  1.0000e+00,  1.8566e-05,  1.0000e+00,\n",
      "          8.6177e-07,  1.0000e+00]])\n"
     ]
    }
   ],
   "source": [
    "d_model = 512\n",
    "max_sequence_length = 200\n",
    "\n",
    "even_i = torch.arange(0, d_model, 2).float() # [0, 2, 4, 6, 8, 10, ..., 510]\n",
    "print(even_i.shape)\n",
    "print(even_i)\n",
    "denominator = torch.pow(10000, 2 * even_i / d_model) # [10000^(0/512), 10000^(2/512), 10000^(4/512), ..., 10000^(510/512)]\n",
    "print(denominator.shape)\n",
    "print(denominator)\n",
    "position = (torch.arange(max_sequence_length).reshape(max_sequence_length, 1)) # [[0], [1], [2], ..., [199]]\n",
    "print(position.shape)\n",
    "print(position)\n",
    "even_PE = torch.sin(position / denominator) # sin(0/10000^(0/512)), sin(1/10000^(2/512)), sin(2/10000^(4/512)), ..., sin(199/10000^(510/512))\n",
    "print(even_PE.shape)\n",
    "print(even_PE)\n",
    "odd_PE = torch.cos(position / denominator) # cos(0/10000^(0/512)), cos(1/10000^(2/512)), cos(2/10000^(4/512)), ..., cos(199/10000^(510/512))\n",
    "print(odd_PE.shape)\n",
    "print(odd_PE)\n",
    "stacked = torch.stack([even_PE, odd_PE], dim=2) # [[sin(0/10000^(0/512)), cos(0/10000^(0/512))], [sin(1/10000^(2/512)), cos(1/10000^(2/512))], ..., [sin(199/10000^(510/512)), cos(199/10000^(510/512))]]\n",
    "print(stacked.shape)\n",
    "print(stacked)\n",
    "PE = torch.flatten(stacked, start_dim=1, end_dim=2)  # [sin(0/10000^(0/512)), cos(0/10000^(0/512)), sin(1/10000^(2/512)), cos(1/10000^(2/512)), ..., sin(199/10000^(510/512)), cos(199/10000^(510/512))]\n",
    "print(PE.shape)\n",
    "print(PE)"
   ]
  },
  {
   "cell_type": "code",
   "execution_count": 36,
   "metadata": {},
   "outputs": [],
   "source": [
    "import torch\n",
    "import torch.nn as nn\n",
    "import torch.nn.functional as F\n",
    "\n",
    "# random seed of 42\n",
    "torch.manual_seed(42)\n",
    "\n",
    "# random tensor shaped (1, 2, 4, 4)\n",
    "wei = torch.randn(1, 2, 2, 2)\n",
    "\n",
    "# triangular mask\n",
    "mask = torch.tril(torch.ones(2, 2))\n",
    "tril = torch.tril(torch.ones((2, 2)))\n",
    "\n",
    "wei1 = wei + mask\n",
    "wei1 = F.softmax(wei1, dim = -1)\n",
    "\n",
    "wei3 = (wei.permute(1,0,2,3) + mask).permute(1,0,2,3)\n",
    "wei3 = F.softmax(wei3, dim = -1)\n",
    "\n",
    "wei2 = wei.masked_fill(tril[:2, :2] == 0, float('-inf'))\n",
    "wei2 = F.softmax(wei2, dim = -1)"
   ]
  },
  {
   "cell_type": "code",
   "execution_count": 37,
   "metadata": {},
   "outputs": [
    {
     "name": "stdout",
     "output_type": "stream",
     "text": [
      "True\n"
     ]
    }
   ],
   "source": [
    "# check similarity between wei+mask and (wei.permute(1,0,2,3)+mask).permute(1,0,2,3)\n",
    "print(torch.allclose(wei1, wei3))"
   ]
  },
  {
   "cell_type": "code",
   "execution_count": 38,
   "metadata": {},
   "outputs": [
    {
     "name": "stdout",
     "output_type": "stream",
     "text": [
      "False\n"
     ]
    }
   ],
   "source": [
    "print(torch.allclose(wei1, wei2))"
   ]
  },
  {
   "cell_type": "code",
   "execution_count": 39,
   "metadata": {},
   "outputs": [
    {
     "name": "stdout",
     "output_type": "stream",
     "text": [
      "tensor([[[[ 0.3367,  0.1288],\n",
      "          [ 0.2345,  0.2303]],\n",
      "\n",
      "         [[-1.1229, -0.1863],\n",
      "          [ 2.2082, -0.6380]]]])\n",
      "tensor([[[[0.7699, 0.2301],\n",
      "          [0.5010, 0.4990]],\n",
      "\n",
      "         [[0.5159, 0.4841],\n",
      "          [0.9451, 0.0549]]]])\n",
      "tensor([[[[1.0000, 0.0000],\n",
      "          [0.5010, 0.4990]],\n",
      "\n",
      "         [[1.0000, 0.0000],\n",
      "          [0.9451, 0.0549]]]])\n",
      "tensor([[[[0.7699, 0.2301],\n",
      "          [0.5010, 0.4990]],\n",
      "\n",
      "         [[0.5159, 0.4841],\n",
      "          [0.9451, 0.0549]]]])\n"
     ]
    }
   ],
   "source": [
    "print(wei)\n",
    "print(wei1)\n",
    "print(wei2)\n",
    "print(wei3)"
   ]
  },
  {
   "cell_type": "code",
   "execution_count": null,
   "metadata": {},
   "outputs": [],
   "source": []
  }
 ],
 "metadata": {
  "kernelspec": {
   "display_name": "yolo",
   "language": "python",
   "name": "yolo"
  },
  "language_info": {
   "codemirror_mode": {
    "name": "ipython",
    "version": 3
   },
   "file_extension": ".py",
   "mimetype": "text/x-python",
   "name": "python",
   "nbconvert_exporter": "python",
   "pygments_lexer": "ipython3",
   "version": "3.11.0"
  }
 },
 "nbformat": 4,
 "nbformat_minor": 2
}
